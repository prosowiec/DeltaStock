{
 "cells": [
  {
   "cell_type": "code",
   "execution_count": null,
   "metadata": {},
   "outputs": [],
   "source": [
    "#https://query2.finance.yahoo.com/ws/fundamentals-timeseries/v1/finance/timeseries/AAPL?symbol=AAPL\"\n",
    "#https://query2.finance.yahoo.com/v8/finance/chart/AAPL?period1=1704145844&period2=1723236317&interval=1mo"
   ]
  },
  {
   "cell_type": "code",
   "execution_count": 4,
   "metadata": {},
   "outputs": [],
   "source": [
    "import sys\n",
    "import os\n",
    "cwd = os.getcwd()\n",
    "\n",
    "sys.path.append(cwd.replace('notebooks','')+'code')"
   ]
  },
  {
   "cell_type": "code",
   "execution_count": 3,
   "metadata": {},
   "outputs": [
    {
     "data": {
      "text/html": [
       "<div>\n",
       "<style scoped>\n",
       "    .dataframe tbody tr th:only-of-type {\n",
       "        vertical-align: middle;\n",
       "    }\n",
       "\n",
       "    .dataframe tbody tr th {\n",
       "        vertical-align: top;\n",
       "    }\n",
       "\n",
       "    .dataframe thead th {\n",
       "        text-align: right;\n",
       "    }\n",
       "</style>\n",
       "<table border=\"1\" class=\"dataframe\">\n",
       "  <thead>\n",
       "    <tr style=\"text-align: right;\">\n",
       "      <th></th>\n",
       "      <th>adjClose</th>\n",
       "      <th>ticker</th>\n",
       "      <th>quarter_meanADJclose</th>\n",
       "      <th>month_meanADJclose</th>\n",
       "      <th>yearMonthDay</th>\n",
       "    </tr>\n",
       "  </thead>\n",
       "  <tbody>\n",
       "    <tr>\n",
       "      <th>0</th>\n",
       "      <td>0.514411</td>\n",
       "      <td>NVDA</td>\n",
       "      <td>0.448435</td>\n",
       "      <td>0.501850</td>\n",
       "      <td>20020102</td>\n",
       "    </tr>\n",
       "    <tr>\n",
       "      <th>1</th>\n",
       "      <td>0.548119</td>\n",
       "      <td>NVDA</td>\n",
       "      <td>0.448435</td>\n",
       "      <td>0.501850</td>\n",
       "      <td>20020103</td>\n",
       "    </tr>\n",
       "    <tr>\n",
       "      <th>2</th>\n",
       "      <td>0.532145</td>\n",
       "      <td>NVDA</td>\n",
       "      <td>0.448435</td>\n",
       "      <td>0.501850</td>\n",
       "      <td>20020104</td>\n",
       "    </tr>\n",
       "    <tr>\n",
       "      <th>3</th>\n",
       "      <td>0.517851</td>\n",
       "      <td>NVDA</td>\n",
       "      <td>0.448435</td>\n",
       "      <td>0.501850</td>\n",
       "      <td>20020107</td>\n",
       "    </tr>\n",
       "    <tr>\n",
       "      <th>4</th>\n",
       "      <td>0.523966</td>\n",
       "      <td>NVDA</td>\n",
       "      <td>0.448435</td>\n",
       "      <td>0.501850</td>\n",
       "      <td>20020108</td>\n",
       "    </tr>\n",
       "    <tr>\n",
       "      <th>...</th>\n",
       "      <td>...</td>\n",
       "      <td>...</td>\n",
       "      <td>...</td>\n",
       "      <td>...</td>\n",
       "      <td>...</td>\n",
       "    </tr>\n",
       "    <tr>\n",
       "      <th>5693</th>\n",
       "      <td>122.860001</td>\n",
       "      <td>NVDA</td>\n",
       "      <td>118.587568</td>\n",
       "      <td>113.710666</td>\n",
       "      <td>20240815</td>\n",
       "    </tr>\n",
       "    <tr>\n",
       "      <th>5694</th>\n",
       "      <td>124.580002</td>\n",
       "      <td>NVDA</td>\n",
       "      <td>118.587568</td>\n",
       "      <td>113.710666</td>\n",
       "      <td>20240816</td>\n",
       "    </tr>\n",
       "    <tr>\n",
       "      <th>5695</th>\n",
       "      <td>130.000000</td>\n",
       "      <td>NVDA</td>\n",
       "      <td>118.587568</td>\n",
       "      <td>113.710666</td>\n",
       "      <td>20240819</td>\n",
       "    </tr>\n",
       "    <tr>\n",
       "      <th>5696</th>\n",
       "      <td>127.250000</td>\n",
       "      <td>NVDA</td>\n",
       "      <td>118.587568</td>\n",
       "      <td>113.710666</td>\n",
       "      <td>20240820</td>\n",
       "    </tr>\n",
       "    <tr>\n",
       "      <th>5697</th>\n",
       "      <td>127.919998</td>\n",
       "      <td>NVDA</td>\n",
       "      <td>118.587568</td>\n",
       "      <td>113.710666</td>\n",
       "      <td>20240821</td>\n",
       "    </tr>\n",
       "  </tbody>\n",
       "</table>\n",
       "<p>5698 rows × 5 columns</p>\n",
       "</div>"
      ],
      "text/plain": [
       "        adjClose ticker  quarter_meanADJclose  month_meanADJclose yearMonthDay\n",
       "0       0.514411   NVDA              0.448435            0.501850     20020102\n",
       "1       0.548119   NVDA              0.448435            0.501850     20020103\n",
       "2       0.532145   NVDA              0.448435            0.501850     20020104\n",
       "3       0.517851   NVDA              0.448435            0.501850     20020107\n",
       "4       0.523966   NVDA              0.448435            0.501850     20020108\n",
       "...          ...    ...                   ...                 ...          ...\n",
       "5693  122.860001   NVDA            118.587568          113.710666     20240815\n",
       "5694  124.580002   NVDA            118.587568          113.710666     20240816\n",
       "5695  130.000000   NVDA            118.587568          113.710666     20240819\n",
       "5696  127.250000   NVDA            118.587568          113.710666     20240820\n",
       "5697  127.919998   NVDA            118.587568          113.710666     20240821\n",
       "\n",
       "[5698 rows x 5 columns]"
      ]
     },
     "execution_count": 3,
     "metadata": {},
     "output_type": "execute_result"
    }
   ],
   "source": [
    "from source.scraper import get_StockPrices\n",
    "import pandas as pd\n",
    "\n",
    "df = get_StockPrices('NVDA', startSelect='2002-01-02')\n",
    "df"
   ]
  },
  {
   "cell_type": "code",
   "execution_count": null,
   "metadata": {},
   "outputs": [],
   "source": [
    "from source.scraper import generate_CIK_TICKER\n",
    "\n",
    "\n",
    "df = generate_CIK_TICKER()"
   ]
  },
  {
   "cell_type": "code",
   "execution_count": 7,
   "metadata": {},
   "outputs": [
    {
     "name": "stdout",
     "output_type": "stream",
     "text": [
      "hadoop-azure is available\n",
      "azure-storage is available\n"
     ]
    }
   ],
   "source": [
    "from spark_deltalake.spark_operations import sparkDelta\n",
    "\n",
    "\n",
    "spark = sparkDelta()\n",
    "pydf = spark.get_spark_dataframe('SEC_filings', True)"
   ]
  },
  {
   "cell_type": "code",
   "execution_count": 8,
   "metadata": {},
   "outputs": [
    {
     "name": "stdout",
     "output_type": "stream",
     "text": [
      "+--------------------+----------+----------+--------------------+---+--------+----------+----------+---------+-------+------+------------+--------------------+---------------------+--------------------+------------+------+\n",
      "|     accessionNumber|filingDate|reportDate|  acceptanceDateTime|act|    form|fileNumber|filmNumber|    items|   size|isXBRL|isInlineXBRL|     primaryDocument|primaryDocDescription|             fileURL|yearMonthDay|ticker|\n",
      "+--------------------+----------+----------+--------------------+---+--------+----------+----------+---------+-------+------+------------+--------------------+---------------------+--------------------+------------+------+\n",
      "|0000315066-14-004209|2014-11-10|          |2014-11-10T10:52:...| 34|SC 13G/A| 005-13157| 141207194|         |   9330|     0|           0|          filing.txt|                     |https://www.sec.g...|    20141110|   AOS|\n",
      "|0001193125-14-393314|2014-11-03|2014-09-30|2014-11-03T11:39:...| 34|    10-Q| 001-00475| 141188405|         |4755289|     1|           0|     d788786d10q.htm|                 10-Q|https://www.sec.g...|    20140930|   AOS|\n",
      "|0001193125-14-376936|2014-10-21|2014-10-21|2014-10-21T08:00:...| 34|     8-K| 001-00475| 141164922|2.02,9.01| 193009|     0|           0|      d807552d8k.htm|                  8-K|https://www.sec.g...|    20141021|   AOS|\n",
      "|0000091142-14-000050|2014-09-08|2014-09-05|2014-09-08T12:03:...|   |       4|          |          |         |  11727|     0|           0|xslF345X03/edgar.xml|     PRIMARY DOCUMENT|https://www.sec.g...|    20140905|   AOS|\n",
      "|0001193125-14-294793|2014-08-05|2014-06-30|2014-08-05T09:40:...| 34|    10-Q| 001-00475| 141014844|         |4705689|     1|           0|     d742784d10q.htm|                 10-Q|https://www.sec.g...|    20140630|   AOS|\n",
      "|0000091142-14-000049|2014-07-25|2014-07-24|2014-07-25T10:47:...|   |       4|          |          |         |   5845|     0|           0|xslF345X03/edgar.xml|     PRIMARY DOCUMENT|https://www.sec.g...|    20140724|   AOS|\n",
      "|0001193125-14-274959|2014-07-22|2014-07-22|2014-07-22T08:00:...| 34|     8-K| 001-00475|  14985569|2.02,9.01| 190762|     0|           0|      d761523d8k.htm|                  8-K|https://www.sec.g...|    20140722|   AOS|\n",
      "|0001193125-14-237204|2014-06-16|2013-12-31|2014-06-16T10:30:...| 34|    11-K| 001-00475|  14922010|         | 252981|     0|           0|     d741977d11k.htm|                 11-K|https://www.sec.g...|    20131231|   AOS|\n",
      "|0001193125-14-218900|2014-05-30|          |2014-05-30T11:23:...| 34|      SD| 001-00475|  14878423|         |  46440|     0|           0|      d734483dsd.htm|                   SD|https://www.sec.g...|    20140530|   AOS|\n",
      "|0001193125-14-181494|2014-05-05|2014-03-31|2014-05-05T10:36:...| 34|    10-Q| 001-00475|  14811724|         |3907712|     1|           0|     d701438d10q.htm|                 10-Q|https://www.sec.g...|    20140331|   AOS|\n",
      "|0000091142-14-000047|2014-05-01|2014-04-30|2014-05-01T16:54:...|   |       4|          |          |         |  13143|     0|           0|xslF345X03/edgar.xml|     PRIMARY DOCUMENT|https://www.sec.g...|    20140430|   AOS|\n",
      "|0000091142-14-000046|2014-05-01|2014-04-29|2014-05-01T13:26:...|   |       4|          |          |         |   9304|     0|           0|xslF345X03/edgar.xml|     PRIMARY DOCUMENT|https://www.sec.g...|    20140429|   AOS|\n",
      "|0000091142-14-000045|2014-04-25|2014-04-25|2014-04-25T15:21:...|   |       4|          |          |         |   4286|     0|           0|xslF345X03/edgar.xml|     PRIMARY DOCUMENT|https://www.sec.g...|    20140425|   AOS|\n",
      "|0001193125-14-151732|2014-04-22|2014-04-22|2014-04-22T08:00:...| 34|     8-K| 001-00475|  14775268|2.02,9.01| 255461|     0|           0|      d715096d8k.htm|                  8-K|https://www.sec.g...|    20140422|   AOS|\n",
      "|0001193125-14-136425|2014-04-09|2014-04-07|2014-04-09T10:08:...| 34|     8-K| 001-00475|  14752672|     5.07|  28285|     0|           0|      d709921d8k.htm|                  8-K|https://www.sec.g...|    20140407|   AOS|\n",
      "|0000091142-14-000044|2014-04-08|2014-04-07|2014-04-08T17:26:...|   |       4|          |          |         |  13137|     0|           0|xslF345X03/edgar.xml|     PRIMARY DOCUMENT|https://www.sec.g...|    20140407|   AOS|\n",
      "|0000091142-14-000043|2014-04-08|2014-04-07|2014-04-08T17:17:...|   |       4|          |          |         |   4538|     0|           0|xslF345X03/edgar.xml|     PRIMARY DOCUMENT|https://www.sec.g...|    20140407|   AOS|\n",
      "|0000091142-14-000042|2014-04-08|2014-04-07|2014-04-08T17:12:...|   |       4|          |          |         |   4766|     0|           0|xslF345X03/edgar.xml|     PRIMARY DOCUMENT|https://www.sec.g...|    20140407|   AOS|\n",
      "|0000091142-14-000041|2014-04-08|2014-04-07|2014-04-08T17:07:...|   |       4|          |          |         |   6405|     0|           0|xslF345X03/edgar.xml|     PRIMARY DOCUMENT|https://www.sec.g...|    20140407|   AOS|\n",
      "|0000091142-14-000040|2014-04-08|2014-04-07|2014-04-08T17:03:...|   |       4|          |          |         |   9563|     0|           0|xslF345X03/edgar.xml|     PRIMARY DOCUMENT|https://www.sec.g...|    20140407|   AOS|\n",
      "+--------------------+----------+----------+--------------------+---+--------+----------+----------+---------+-------+------+------------+--------------------+---------------------+--------------------+------------+------+\n",
      "only showing top 20 rows\n",
      "\n"
     ]
    }
   ],
   "source": [
    "pydf.show()"
   ]
  },
  {
   "cell_type": "code",
   "execution_count": 54,
   "metadata": {},
   "outputs": [],
   "source": [
    "ticker = 'AOS'\n",
    "query = ' '.join(\n",
    "    (\n",
    "    \"WITH CTE AS (SELECT * FROM SEC_filings\",\n",
    "    f'WHERE ticker = \\'{ticker}\\')',\n",
    "    'SELECT ticker, formatTime(MAX(yearMonthDay)) AS max_time, formatTime(MIN(yearMonthDay)) AS min_time FROM CTE',\n",
    "    'GROUP BY ticker'\n",
    "    )\n",
    " )\n",
    "\n",
    "\n",
    "def formatTime(timestr):    \n",
    "    year = timestr[:4]\n",
    "    month = timestr[4:6]\n",
    "    day = timestr[6:]\n",
    "    \n",
    "    return '-'.join((year, month, day))\n",
    "\n",
    "\n",
    "spark.spark.udf.register(\"formatTime\", formatTime)\n",
    "\n",
    "dfspark = spark.spark.sql(query).toPandas()"
   ]
  },
  {
   "cell_type": "code",
   "execution_count": 55,
   "metadata": {},
   "outputs": [
    {
     "data": {
      "text/html": [
       "<div>\n",
       "<style scoped>\n",
       "    .dataframe tbody tr th:only-of-type {\n",
       "        vertical-align: middle;\n",
       "    }\n",
       "\n",
       "    .dataframe tbody tr th {\n",
       "        vertical-align: top;\n",
       "    }\n",
       "\n",
       "    .dataframe thead th {\n",
       "        text-align: right;\n",
       "    }\n",
       "</style>\n",
       "<table border=\"1\" class=\"dataframe\">\n",
       "  <thead>\n",
       "    <tr style=\"text-align: right;\">\n",
       "      <th></th>\n",
       "      <th>ticker</th>\n",
       "      <th>max_time</th>\n",
       "      <th>min_time</th>\n",
       "    </tr>\n",
       "  </thead>\n",
       "  <tbody>\n",
       "    <tr>\n",
       "      <th>0</th>\n",
       "      <td>AOS</td>\n",
       "      <td>2024-08-16</td>\n",
       "      <td>2012-12-31</td>\n",
       "    </tr>\n",
       "  </tbody>\n",
       "</table>\n",
       "</div>"
      ],
      "text/plain": [
       "  ticker    max_time    min_time\n",
       "0    AOS  2024-08-16  2012-12-31"
      ]
     },
     "execution_count": 55,
     "metadata": {},
     "output_type": "execute_result"
    }
   ],
   "source": [
    "dfspark"
   ]
  },
  {
   "cell_type": "code",
   "execution_count": null,
   "metadata": {},
   "outputs": [],
   "source": [
    "spark.sparkStop()"
   ]
  },
  {
   "cell_type": "code",
   "execution_count": null,
   "metadata": {},
   "outputs": [],
   "source": [
    "from source.scraper import get_spy500_formWiki\n",
    "\n",
    "\n",
    "wiki = get_spy500_formWiki()"
   ]
  },
  {
   "cell_type": "code",
   "execution_count": null,
   "metadata": {},
   "outputs": [],
   "source": [
    "get_companyfacts('CIK0000320193')"
   ]
  },
  {
   "cell_type": "code",
   "execution_count": null,
   "metadata": {},
   "outputs": [],
   "source": [
    "from source.scraper import get_companyfacts\n",
    "#https://data.sec.gov/api/xbrl/companyfacts/CIK0000320193.json\n",
    "mergedDF = get_companyfacts('CIK0001045810') #2016-07-31\n",
    "\n",
    "#mergedDF['fy'] = mergedDF['fy'].replace('',\"\")\n",
    "#mergedDF['fy'] = mergedDF['fy'].astype(str).str[:4]\n",
    "#mergedDF['fy'] = mergedDF['fy'].replace(-1, None)\n",
    "\n",
    "mergedDF"
   ]
  },
  {
   "cell_type": "code",
   "execution_count": null,
   "metadata": {},
   "outputs": [],
   "source": [
    "\"\"\"\n",
    "https://www.sec.gov/ix?doc=/Archives/edgar/data/0000320193/000114036124024352/ef20028273_8k.htm\n",
    "\n",
    "\n",
    "https://data.sec.gov/api/xbrl/companyconcept/CIK0000320193/us-gaap/AccountsPayableCurrent.json - info about reports\n",
    "\n",
    "https://data.sec.gov/api/xbrl/companyfacts/CIK0000320193.json\n",
    "\n",
    "/0001140361|24|024352/\n",
    "accessionNumber - 0001140361-24-024352\n",
    "\n",
    "\"\"\""
   ]
  },
  {
   "cell_type": "code",
   "execution_count": null,
   "metadata": {},
   "outputs": [],
   "source": [
    "from source.scraper import generate_CIK_TICKER\n",
    "\n",
    "sec_ticker = generate_CIK_TICKER()\n",
    "sec_ticker"
   ]
  },
  {
   "cell_type": "code",
   "execution_count": null,
   "metadata": {},
   "outputs": [],
   "source": [
    "from source.scraper import get_SEC_filings\n",
    "\n",
    "\n",
    "ticker = 'AAPL'\n",
    "\n",
    "filings = get_SEC_filings('CIK0000320193', 'AAPL')\n",
    "\n",
    "filings"
   ]
  }
 ],
 "metadata": {
  "kernelspec": {
   "display_name": "Python 3",
   "language": "python",
   "name": "python3"
  },
  "language_info": {
   "codemirror_mode": {
    "name": "ipython",
    "version": 3
   },
   "file_extension": ".py",
   "mimetype": "text/x-python",
   "name": "python",
   "nbconvert_exporter": "python",
   "pygments_lexer": "ipython3",
   "version": "3.10.7"
  }
 },
 "nbformat": 4,
 "nbformat_minor": 2
}
