{
 "cells": [
  {
   "cell_type": "code",
   "execution_count": 27,
   "metadata": {},
   "outputs": [],
   "source": [
    "#https://query2.finance.yahoo.com/ws/fundamentals-timeseries/v1/finance/timeseries/AAPL?symbol=AAPL\"\n",
    "#https://query2.finance.yahoo.com/v8/finance/chart/AAPL?period1=1704145844&period2=1723236317&interval=1mo"
   ]
  },
  {
   "cell_type": "code",
   "execution_count": 1,
   "metadata": {},
   "outputs": [],
   "source": [
    "import sys\n",
    "import os\n",
    "import pandas as pd\n",
    "\n",
    "cwd = os.getcwd()\n",
    "\n",
    "sys.path.append(cwd.replace('notebooks','')+'code')"
   ]
  },
  {
   "cell_type": "code",
   "execution_count": 5,
   "metadata": {},
   "outputs": [
    {
     "data": {
      "text/html": [
       "<div>\n",
       "<style scoped>\n",
       "    .dataframe tbody tr th:only-of-type {\n",
       "        vertical-align: middle;\n",
       "    }\n",
       "\n",
       "    .dataframe tbody tr th {\n",
       "        vertical-align: top;\n",
       "    }\n",
       "\n",
       "    .dataframe thead th {\n",
       "        text-align: right;\n",
       "    }\n",
       "</style>\n",
       "<table border=\"1\" class=\"dataframe\">\n",
       "  <thead>\n",
       "    <tr style=\"text-align: right;\">\n",
       "      <th></th>\n",
       "      <th>adjClose</th>\n",
       "      <th>ticker</th>\n",
       "      <th>quarter_meanADJclose</th>\n",
       "      <th>month_meanADJclose</th>\n",
       "      <th>yearMonthDay</th>\n",
       "    </tr>\n",
       "  </thead>\n",
       "  <tbody>\n",
       "    <tr>\n",
       "      <th>0</th>\n",
       "      <td>0.514411</td>\n",
       "      <td>NVDA</td>\n",
       "      <td>0.448435</td>\n",
       "      <td>0.501850</td>\n",
       "      <td>20020102</td>\n",
       "    </tr>\n",
       "    <tr>\n",
       "      <th>1</th>\n",
       "      <td>0.548119</td>\n",
       "      <td>NVDA</td>\n",
       "      <td>0.448435</td>\n",
       "      <td>0.501850</td>\n",
       "      <td>20020103</td>\n",
       "    </tr>\n",
       "    <tr>\n",
       "      <th>2</th>\n",
       "      <td>0.532145</td>\n",
       "      <td>NVDA</td>\n",
       "      <td>0.448435</td>\n",
       "      <td>0.501850</td>\n",
       "      <td>20020104</td>\n",
       "    </tr>\n",
       "    <tr>\n",
       "      <th>3</th>\n",
       "      <td>0.517851</td>\n",
       "      <td>NVDA</td>\n",
       "      <td>0.448435</td>\n",
       "      <td>0.501850</td>\n",
       "      <td>20020107</td>\n",
       "    </tr>\n",
       "    <tr>\n",
       "      <th>4</th>\n",
       "      <td>0.523966</td>\n",
       "      <td>NVDA</td>\n",
       "      <td>0.448435</td>\n",
       "      <td>0.501850</td>\n",
       "      <td>20020108</td>\n",
       "    </tr>\n",
       "    <tr>\n",
       "      <th>...</th>\n",
       "      <td>...</td>\n",
       "      <td>...</td>\n",
       "      <td>...</td>\n",
       "      <td>...</td>\n",
       "      <td>...</td>\n",
       "    </tr>\n",
       "    <tr>\n",
       "      <th>5031</th>\n",
       "      <td>30.898392</td>\n",
       "      <td>NVDA</td>\n",
       "      <td>27.471358</td>\n",
       "      <td>29.885646</td>\n",
       "      <td>20211227</td>\n",
       "    </tr>\n",
       "    <tr>\n",
       "      <th>5032</th>\n",
       "      <td>30.276327</td>\n",
       "      <td>NVDA</td>\n",
       "      <td>27.471358</td>\n",
       "      <td>29.885646</td>\n",
       "      <td>20211228</td>\n",
       "    </tr>\n",
       "    <tr>\n",
       "      <th>5033</th>\n",
       "      <td>29.955814</td>\n",
       "      <td>NVDA</td>\n",
       "      <td>27.471358</td>\n",
       "      <td>29.885646</td>\n",
       "      <td>20211229</td>\n",
       "    </tr>\n",
       "    <tr>\n",
       "      <th>5034</th>\n",
       "      <td>29.541439</td>\n",
       "      <td>NVDA</td>\n",
       "      <td>27.471358</td>\n",
       "      <td>29.885646</td>\n",
       "      <td>20211230</td>\n",
       "    </tr>\n",
       "    <tr>\n",
       "      <th>5035</th>\n",
       "      <td>29.366701</td>\n",
       "      <td>NVDA</td>\n",
       "      <td>27.471358</td>\n",
       "      <td>29.885646</td>\n",
       "      <td>20211231</td>\n",
       "    </tr>\n",
       "  </tbody>\n",
       "</table>\n",
       "<p>5036 rows × 5 columns</p>\n",
       "</div>"
      ],
      "text/plain": [
       "       adjClose ticker  quarter_meanADJclose  month_meanADJclose yearMonthDay\n",
       "0      0.514411   NVDA              0.448435            0.501850     20020102\n",
       "1      0.548119   NVDA              0.448435            0.501850     20020103\n",
       "2      0.532145   NVDA              0.448435            0.501850     20020104\n",
       "3      0.517851   NVDA              0.448435            0.501850     20020107\n",
       "4      0.523966   NVDA              0.448435            0.501850     20020108\n",
       "...         ...    ...                   ...                 ...          ...\n",
       "5031  30.898392   NVDA             27.471358           29.885646     20211227\n",
       "5032  30.276327   NVDA             27.471358           29.885646     20211228\n",
       "5033  29.955814   NVDA             27.471358           29.885646     20211229\n",
       "5034  29.541439   NVDA             27.471358           29.885646     20211230\n",
       "5035  29.366701   NVDA             27.471358           29.885646     20211231\n",
       "\n",
       "[5036 rows x 5 columns]"
      ]
     },
     "execution_count": 5,
     "metadata": {},
     "output_type": "execute_result"
    }
   ],
   "source": [
    "from source.scraper import get_StockPrices\n",
    "\n",
    "df = get_StockPrices('NVDA', startSelect='2002-01-02', endSelect='2022-01-02')\n",
    "df"
   ]
  },
  {
   "cell_type": "code",
   "execution_count": null,
   "metadata": {},
   "outputs": [],
   "source": [
    "from source.scraper import generate_CIK_TICKER\n",
    "\n",
    "\n",
    "df = generate_CIK_TICKER()"
   ]
  },
  {
   "cell_type": "code",
   "execution_count": 2,
   "metadata": {},
   "outputs": [
    {
     "name": "stdout",
     "output_type": "stream",
     "text": [
      "hadoop-azure is available\n",
      "azure-storage is available\n"
     ]
    }
   ],
   "source": [
    "from spark_deltalake.spark_operations import sparkDelta\n",
    "\n",
    "\n",
    "spark = sparkDelta()"
   ]
  },
  {
   "cell_type": "code",
   "execution_count": 3,
   "metadata": {},
   "outputs": [
    {
     "name": "stdout",
     "output_type": "stream",
     "text": [
      "+--------------------+----------+----------+--------------------+---+----+----------+----------+--------------+-------+------+------------+--------------------+---------------------+--------------------+------------+------+\n",
      "|     accessionNumber|filingDate|reportDate|  acceptanceDateTime|act|form|fileNumber|filmNumber|         items|   size|isXBRL|isInlineXBRL|     primaryDocument|primaryDocDescription|             fileURL|yearMonthDay|ticker|\n",
      "+--------------------+----------+----------+--------------------+---+----+----------+----------+--------------+-------+------+------------+--------------------+---------------------+--------------------+------------+------+\n",
      "|0001467373-24-000176|2024-05-17|2024-05-15|2024-05-17T09:11:...|   |   4|          |          |              |   4834|     0|           0|xslF345X05/wk-for...|               FORM 4|https://www.sec.g...|    20240515|   ACN|\n",
      "|0001467373-24-000175|2024-05-17|2024-05-15|2024-05-17T09:11:...|   |   4|          |          |              |   4715|     0|           0|xslF345X05/wk-for...|               FORM 4|https://www.sec.g...|    20240515|   ACN|\n",
      "|0001467373-24-000174|2024-05-17|2024-05-15|2024-05-17T09:11:...|   |   4|          |          |              |   4801|     0|           0|xslF345X05/wk-for...|               FORM 4|https://www.sec.g...|    20240515|   ACN|\n",
      "|0001467373-24-000173|2024-05-17|2024-05-15|2024-05-17T09:11:...|   |   4|          |          |              |   4849|     0|           0|xslF345X05/wk-for...|               FORM 4|https://www.sec.g...|    20240515|   ACN|\n",
      "|0001467373-24-000172|2024-05-17|2024-05-15|2024-05-17T09:10:...|   |   4|          |          |              |   4809|     0|           0|xslF345X05/wk-for...|               FORM 4|https://www.sec.g...|    20240515|   ACN|\n",
      "|0001467373-24-000171|2024-05-17|2024-05-15|2024-05-17T09:10:...|   |   4|          |          |              |   4814|     0|           0|xslF345X05/wk-for...|               FORM 4|https://www.sec.g...|    20240515|   ACN|\n",
      "|0001467373-24-000170|2024-05-17|2024-05-15|2024-05-17T09:10:...|   |   4|          |          |              |   6141|     0|           0|xslF345X05/wk-for...|               FORM 4|https://www.sec.g...|    20240515|   ACN|\n",
      "|0001467373-24-000169|2024-05-17|2024-05-15|2024-05-17T09:10:...|   |   4|          |          |              |   4749|     0|           0|xslF345X05/wk-for...|               FORM 4|https://www.sec.g...|    20240515|   ACN|\n",
      "|0001467373-24-000168|2024-05-17|2024-05-15|2024-05-17T09:10:...|   |   4|          |          |              |   4815|     0|           0|xslF345X05/wk-for...|               FORM 4|https://www.sec.g...|    20240515|   ACN|\n",
      "|0001467373-24-000167|2024-05-17|2024-05-15|2024-05-17T09:09:...|   |   4|          |          |              |   4769|     0|           0|xslF345X05/wk-for...|               FORM 4|https://www.sec.g...|    20240515|   ACN|\n",
      "|0001467373-24-000166|2024-05-17|2024-05-15|2024-05-17T09:09:...|   |   4|          |          |              |   5595|     0|           0|xslF345X05/wk-for...|               FORM 4|https://www.sec.g...|    20240515|   ACN|\n",
      "|0001467373-24-000165|2024-05-17|2024-05-15|2024-05-17T09:09:...|   |   4|          |          |              |   5687|     0|           0|xslF345X05/wk-for...|               FORM 4|https://www.sec.g...|    20240515|   ACN|\n",
      "|0001467373-24-000164|2024-05-17|2024-05-15|2024-05-17T09:09:...|   |   4|          |          |              |   4827|     0|           0|xslF345X05/wk-for...|               FORM 4|https://www.sec.g...|    20240515|   ACN|\n",
      "|0001467373-24-000163|2024-05-17|2024-05-15|2024-05-17T09:09:...|   |   4|          |          |              |   4812|     0|           0|xslF345X05/wk-for...|               FORM 4|https://www.sec.g...|    20240515|   ACN|\n",
      "|0001467373-24-000162|2024-05-17|2024-05-15|2024-05-17T09:08:...|   |   4|          |          |              |   4695|     0|           0|xslF345X05/wk-for...|               FORM 4|https://www.sec.g...|    20240515|   ACN|\n",
      "|0001467373-24-000161|2024-05-17|2024-05-15|2024-05-17T09:08:...|   |   4|          |          |              |   4775|     0|           0|xslF345X05/wk-for...|               FORM 4|https://www.sec.g...|    20240515|   ACN|\n",
      "|0001467373-24-000160|2024-05-17|2024-05-15|2024-05-17T09:08:...|   |   4|          |          |              |   4807|     0|           0|xslF345X05/wk-for...|               FORM 4|https://www.sec.g...|    20240515|   ACN|\n",
      "|0001467373-24-000159|2024-05-17|2024-05-15|2024-05-17T09:08:...|   |   4|          |          |              |   4812|     0|           0|xslF345X05/wk-for...|               FORM 4|https://www.sec.g...|    20240515|   ACN|\n",
      "|0001467373-24-000158|2024-05-17|2024-05-15|2024-05-17T09:08:...|   |   4|          |          |              |   5825|     0|           0|xslF345X05/wk-for...|               FORM 4|https://www.sec.g...|    20240515|   ACN|\n",
      "|0001467373-24-000157|2024-05-17|2024-05-14|2024-05-17T06:44:...| 34| 8-K| 001-34448|  24957673|1.01,2.03,9.01|1686443|     1|           1|    acn-20240514.htm|                  8-K|https://www.sec.g...|    20240514|   ACN|\n",
      "+--------------------+----------+----------+--------------------+---+----+----------+----------+--------------+-------+------+------------+--------------------+---------------------+--------------------+------------+------+\n",
      "only showing top 20 rows\n",
      "\n"
     ]
    }
   ],
   "source": [
    "pydf = spark.get_spark_dataframe('SEC_filings', True)\n",
    "pydf.show()"
   ]
  },
  {
   "cell_type": "code",
   "execution_count": 5,
   "metadata": {},
   "outputs": [
    {
     "name": "stdout",
     "output_type": "stream",
     "text": [
      "+--------------------+--------------------+--------------------+----------+----------+--------------------+------+---+----+----------+---------+--------------------+----------+--------------------+--------+-----------+------------+\n",
      "|             finType|               label|         description|       end|       val|                accn|    fy| fp|form|     filed|    frame|           endFormat|     start|         startFormat|diffDate|monthWindow|yearMonthDay|\n",
      "+--------------------+--------------------+--------------------+----------+----------+--------------------+------+---+----+----------+---------+--------------------+----------+--------------------+--------+-----------+------------+\n",
      "|IncreaseDecreaseI...|Increase (Decreas...|The increase (dec...|2020-09-30|    -4.8E7|0000066740-21-000013|2021.0| Q3|10-Q|2021-10-26|      NaN|java.util.Gregori...|2020-01-01|java.util.Gregori...|   273.0|        9.0|    20200930|\n",
      "|IncreaseDecreaseI...|Increase (Decreas...|The increase (dec...|2021-09-30|     3.4E8|0000066740-21-000013|2021.0| Q3|10-Q|2021-10-26|      NaN|java.util.Gregori...|2021-01-01|java.util.Gregori...|   272.0|        9.0|    20210930|\n",
      "|IncreaseDecreaseI...|Increase (Decreas...|The increase (dec...|2020-09-30|   -1.13E8|0000066740-21-000013|2021.0| Q3|10-Q|2021-10-26|      NaN|java.util.Gregori...|2020-01-01|java.util.Gregori...|   273.0|        9.0|    20200930|\n",
      "|IncreaseDecreaseI...|Increase (Decreas...|The increase (dec...|2021-09-30|    3.24E8|0000066740-21-000013|2021.0| Q3|10-Q|2021-10-26|      NaN|java.util.Gregori...|2021-01-01|java.util.Gregori...|   272.0|        9.0|    20210930|\n",
      "|IncreaseDecreaseI...|Increase (Decreas...|The increase (dec...|2020-09-30|    1.46E8|0000066740-21-000013|2021.0| Q3|10-Q|2021-10-26|      NaN|java.util.Gregori...|2020-01-01|java.util.Gregori...|   273.0|        9.0|    20200930|\n",
      "|IncreaseDecreaseI...|Increase (Decreas...|The increase (dec...|2021-09-30|    -4.1E7|0000066740-21-000013|2021.0| Q3|10-Q|2021-10-26|      NaN|java.util.Gregori...|2021-01-01|java.util.Gregori...|   272.0|        9.0|    20210930|\n",
      "|IncreaseDecreaseI...|Increase (Decreas...|The increase (dec...|2020-09-30|    -4.3E7|0000066740-21-000013|2021.0| Q3|10-Q|2021-10-26|      NaN|java.util.Gregori...|2020-01-01|java.util.Gregori...|   273.0|        9.0|    20200930|\n",
      "|IncreaseDecreaseI...|Increase (Decreas...|The increase (dec...|2021-09-30|    8.23E8|0000066740-21-000013|2021.0| Q3|10-Q|2021-10-26|      NaN|java.util.Gregori...|2021-01-01|java.util.Gregori...|   272.0|        9.0|    20210930|\n",
      "|IncreaseDecreaseI...|Increase (Decreas...|Amount of increas...|2020-09-30|-4000000.0|0000066740-21-000013|2021.0| Q3|10-Q|2021-10-26|      NaN|java.util.Gregori...|2020-01-01|java.util.Gregori...|   273.0|        9.0|    20200930|\n",
      "|IncreaseDecreaseI...|Increase (Decreas...|Amount of increas...|2021-09-30|   -2.12E8|0000066740-21-000013|2021.0| Q3|10-Q|2021-10-26|      NaN|java.util.Gregori...|2021-01-01|java.util.Gregori...|   272.0|        9.0|    20210930|\n",
      "|IncrementalCommon...|Incremental Commo...|Additional shares...|2020-09-30| 4400000.0|0000066740-21-000013|2021.0| Q3|10-Q|2021-10-26|      NaN|java.util.Gregori...|2020-01-01|java.util.Gregori...|   273.0|        9.0|    20200930|\n",
      "|IncrementalCommon...|Incremental Commo...|Additional shares...|2020-09-30| 4600000.0|0000066740-21-000013|2021.0| Q3|10-Q|2021-10-26| CY2020Q3|java.util.Gregori...|2020-07-01|java.util.Gregori...|    91.0|        3.0|    20200930|\n",
      "|IncrementalCommon...|Incremental Commo...|Additional shares...|2021-09-30| 6800000.0|0000066740-21-000013|2021.0| Q3|10-Q|2021-10-26|      NaN|java.util.Gregori...|2021-01-01|java.util.Gregori...|   272.0|        9.0|    20210930|\n",
      "|IncrementalCommon...|Incremental Commo...|Additional shares...|2021-09-30| 6700000.0|0000066740-21-000013|2021.0| Q3|10-Q|2021-10-26|      NaN|java.util.Gregori...|2021-07-01|java.util.Gregori...|    91.0|        3.0|    20210930|\n",
      "|IndefiniteLivedTr...|Indefinite-Lived ...|Carrying amount (...|2020-12-31|    6.58E8|0000066740-21-000013|2021.0| Q3|10-Q|2021-10-26|      NaN|java.util.Gregori...|       NaN|                NULL|     NaN|        NaN|    20201231|\n",
      "|IndefiniteLivedTr...|Indefinite-Lived ...|Carrying amount (...|2021-09-30|    6.55E8|0000066740-21-000013|2021.0| Q3|10-Q|2021-10-26|CY2021Q3I|java.util.Gregori...|       NaN|                NULL|     NaN|        NaN|    20210930|\n",
      "|IntangibleAssetsN...|Intangible Assets...|Sum of the carryi...|2020-12-31|   5.835E9|0000066740-21-000013|2021.0| Q3|10-Q|2021-10-26|      NaN|java.util.Gregori...|       NaN|                NULL|     NaN|        NaN|    20201231|\n",
      "|IntangibleAssetsN...|Intangible Assets...|Sum of the carryi...|2021-09-30|   5.426E9|0000066740-21-000013|2021.0| Q3|10-Q|2021-10-26|CY2021Q3I|java.util.Gregori...|       NaN|                NULL|     NaN|        NaN|    20210930|\n",
      "|InterestAndOtherI...|Interest and Othe...|The amount of int...|2020-09-30|     2.4E7|0000066740-21-000013|2021.0| Q3|10-Q|2021-10-26|      NaN|java.util.Gregori...|2020-01-01|java.util.Gregori...|   273.0|        9.0|    20200930|\n",
      "|InterestAndOtherI...|Interest and Othe...|The amount of int...|2020-09-30| 5000000.0|0000066740-21-000013|2021.0| Q3|10-Q|2021-10-26| CY2020Q3|java.util.Gregori...|2020-07-01|java.util.Gregori...|    91.0|        3.0|    20200930|\n",
      "+--------------------+--------------------+--------------------+----------+----------+--------------------+------+---+----+----------+---------+--------------------+----------+--------------------+--------+-----------+------------+\n",
      "only showing top 20 rows\n",
      "\n"
     ]
    }
   ],
   "source": [
    "pydf = spark.get_spark_dataframe('company_facts', True)\n",
    "#delete diffDate, endFormat, startFormat\n",
    "pydf.show()"
   ]
  },
  {
   "cell_type": "code",
   "execution_count": 7,
   "metadata": {},
   "outputs": [
    {
     "name": "stdout",
     "output_type": "stream",
     "text": [
      "+--------------------+\n",
      "|           endFormat|\n",
      "+--------------------+\n",
      "|java.util.Gregori...|\n",
      "|java.util.Gregori...|\n",
      "|java.util.Gregori...|\n",
      "|java.util.Gregori...|\n",
      "|java.util.Gregori...|\n",
      "|java.util.Gregori...|\n",
      "|java.util.Gregori...|\n",
      "|java.util.Gregori...|\n",
      "|java.util.Gregori...|\n",
      "|java.util.Gregori...|\n",
      "|java.util.Gregori...|\n",
      "|java.util.Gregori...|\n",
      "|java.util.Gregori...|\n",
      "|java.util.Gregori...|\n",
      "|java.util.Gregori...|\n",
      "|java.util.Gregori...|\n",
      "|java.util.Gregori...|\n",
      "|java.util.Gregori...|\n",
      "|java.util.Gregori...|\n",
      "|java.util.Gregori...|\n",
      "+--------------------+\n",
      "only showing top 20 rows\n",
      "\n"
     ]
    }
   ],
   "source": [
    "spark.spark.sql('SELECT endFormat FROM company_facts').show()"
   ]
  },
  {
   "cell_type": "code",
   "execution_count": null,
   "metadata": {},
   "outputs": [],
   "source": [
    "df = spark.spark.sql('SELECT DISTINCT ticker FROM SEC_filings').toPandas()\n",
    "tickers = list(df.values[:,0])"
   ]
  },
  {
   "cell_type": "code",
   "execution_count": null,
   "metadata": {},
   "outputs": [
    {
     "data": {
      "text/plain": [
       "['AOS', 'MMM']"
      ]
     },
     "execution_count": 26,
     "metadata": {},
     "output_type": "execute_result"
    }
   ],
   "source": []
  },
  {
   "cell_type": "code",
   "execution_count": null,
   "metadata": {},
   "outputs": [],
   "source": [
    "ticker = 'AOS'\n",
    "\n",
    "df = spark.get_min_max_fillings_date(ticker)"
   ]
  },
  {
   "cell_type": "code",
   "execution_count": null,
   "metadata": {},
   "outputs": [],
   "source": [
    "spark.sparkStop()"
   ]
  },
  {
   "cell_type": "code",
   "execution_count": null,
   "metadata": {},
   "outputs": [],
   "source": [
    "from source.scraper import get_spy500_formWiki\n",
    "\n",
    "\n",
    "wiki = get_spy500_formWiki()"
   ]
  },
  {
   "cell_type": "code",
   "execution_count": null,
   "metadata": {},
   "outputs": [],
   "source": [
    "get_companyfacts('CIK0000320193')"
   ]
  },
  {
   "cell_type": "code",
   "execution_count": null,
   "metadata": {},
   "outputs": [],
   "source": [
    "from source.scraper import get_companyfacts\n",
    "#https://data.sec.gov/api/xbrl/companyfacts/CIK0000320193.json\n",
    "mergedDF = get_companyfacts('CIK0001045810') #2016-07-31\n",
    "\n",
    "#mergedDF['fy'] = mergedDF['fy'].replace('',\"\")\n",
    "#mergedDF['fy'] = mergedDF['fy'].astype(str).str[:4]\n",
    "#mergedDF['fy'] = mergedDF['fy'].replace(-1, None)\n",
    "\n",
    "mergedDF"
   ]
  },
  {
   "cell_type": "code",
   "execution_count": null,
   "metadata": {},
   "outputs": [],
   "source": [
    "\"\"\"\n",
    "https://www.sec.gov/ix?doc=/Archives/edgar/data/0000320193/000114036124024352/ef20028273_8k.htm\n",
    "\n",
    "\n",
    "https://data.sec.gov/api/xbrl/companyconcept/CIK0000320193/us-gaap/AccountsPayableCurrent.json - info about reports\n",
    "\n",
    "https://data.sec.gov/api/xbrl/companyfacts/CIK0000320193.json\n",
    "\n",
    "/0001140361|24|024352/\n",
    "accessionNumber - 0001140361-24-024352\n",
    "\n",
    "\"\"\""
   ]
  },
  {
   "cell_type": "code",
   "execution_count": null,
   "metadata": {},
   "outputs": [],
   "source": [
    "from source.scraper import generate_CIK_TICKER\n",
    "\n",
    "sec_ticker = generate_CIK_TICKER()\n",
    "sec_ticker"
   ]
  },
  {
   "cell_type": "code",
   "execution_count": null,
   "metadata": {},
   "outputs": [],
   "source": [
    "from source.scraper import get_SEC_filings\n",
    "\n",
    "\n",
    "ticker = 'AAPL'\n",
    "\n",
    "filings = get_SEC_filings('CIK0000320193', 'AAPL')\n",
    "\n",
    "filings"
   ]
  }
 ],
 "metadata": {
  "kernelspec": {
   "display_name": "Python 3",
   "language": "python",
   "name": "python3"
  },
  "language_info": {
   "codemirror_mode": {
    "name": "ipython",
    "version": 3
   },
   "file_extension": ".py",
   "mimetype": "text/x-python",
   "name": "python",
   "nbconvert_exporter": "python",
   "pygments_lexer": "ipython3",
   "version": "3.10.7"
  }
 },
 "nbformat": 4,
 "nbformat_minor": 2
}
